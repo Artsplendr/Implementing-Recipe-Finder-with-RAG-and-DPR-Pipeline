{
  "nbformat": 4,
  "nbformat_minor": 0,
  "metadata": {
    "colab": {
      "provenance": [],
      "machine_shape": "hm",
      "gpuType": "L4"
    },
    "kernelspec": {
      "display_name": "Python 3",
      "name": "python3"
    },
    "language_info": {
      "codemirror_mode": {
        "name": "ipython",
        "version": 3
      },
      "file_extension": ".py",
      "mimetype": "text/x-python",
      "name": "python",
      "nbconvert_exporter": "python",
      "pygments_lexer": "ipython3",
      "version": "3.7.0"
    },
    "accelerator": "GPU"
  },
  "cells": [
    {
      "cell_type": "markdown",
      "metadata": {
        "id": "ovtRPGnBClBp"
      },
      "source": [
        "# Building Personalized Recipe Finder with FAISS and OpenAI Embeddings pipeline\n",
        "\n",
        "\n",
        "\n",
        "\n"
      ]
    },
    {
      "cell_type": "markdown",
      "metadata": {
        "id": "hX6_EK-OC8Hj"
      },
      "source": [
        "## Description\n",
        "The goal of this experiment is to implement personalized Recipe Finder, that retrieves and adapts recipes based on user queries using FAISS for similarity search and GPT-4 for refinement.\n",
        "\n"
      ]
    },
    {
      "cell_type": "markdown",
      "source": [
        "## References\n",
        "\n",
        "The dataset of recipes, used in this project, is available at this [link](https://raw.githubusercontent.com/tabatkins/recipe-db/master/db-recipes.json)."
      ],
      "metadata": {
        "id": "zWn8L9GHzeen"
      }
    },
    {
      "cell_type": "markdown",
      "metadata": {
        "id": "ogBqRbYYFi5Q"
      },
      "source": [
        "##Setup"
      ]
    },
    {
      "cell_type": "code",
      "metadata": {
        "colab": {
          "base_uri": "https://localhost:8080/"
        },
        "id": "pQ9MCP86FwVv",
        "outputId": "737bef24-2d14-4857-e6b8-3eb47f077cc8"
      },
      "source": [
        "from google.colab import drive\n",
        "drive.mount('/content/drive')"
      ],
      "execution_count": null,
      "outputs": [
        {
          "output_type": "stream",
          "name": "stdout",
          "text": [
            "Mounted at /content/drive\n"
          ]
        }
      ]
    },
    {
      "cell_type": "code",
      "source": [
        "cd \"YOUR-PATH-HERE\""
      ],
      "metadata": {
        "id": "aUE51xBxe-3i"
      },
      "execution_count": null,
      "outputs": []
    },
    {
      "cell_type": "code",
      "metadata": {
        "id": "6i4rA3qWClBt",
        "collapsed": true
      },
      "source": [
        "# Install necessary libraries\n",
        "%%capture\n",
        "!pip install openai faiss-cpu numpy json5 requests\n"
      ],
      "execution_count": null,
      "outputs": []
    },
    {
      "cell_type": "code",
      "source": [
        "# Import Libraries\n",
        "import faiss\n",
        "import json\n",
        "import numpy as np\n",
        "import os\n",
        "import requests\n",
        "import openai\n",
        "from openai import OpenAI"
      ],
      "metadata": {
        "id": "D5QzCSiw7HX0"
      },
      "execution_count": null,
      "outputs": []
    },
    {
      "cell_type": "code",
      "source": [
        "# Set OpenAI API Key\n",
        "openai.api_key = \"YOUR-OPENAI-KEY-HERE\""
      ],
      "metadata": {
        "id": "OkbNeQh4fCiK"
      },
      "execution_count": null,
      "outputs": []
    },
    {
      "cell_type": "code",
      "source": [
        "# Function to generate text embeddings using OpenAI's API\n",
        "# \"text-embedding-ada-002\" is OpenAI’s most advanced embedding model, designed for text similarity, retrieval, clustering, and classification tasks\n",
        "\n",
        "def get_openai_embedding(text):\n",
        "    \"\"\"Generate text embeddings using OpenAI's latest API.\"\"\"\n",
        "    client = openai.OpenAI(api_key=openai.api_key )  # Create a client instance\n",
        "    response = client.embeddings.create(\n",
        "        input=text,\n",
        "        model=\"text-embedding-ada-002\"\n",
        "    )\n",
        "    return response.data[0].embedding"
      ],
      "metadata": {
        "id": "C8JgvnGOHwDU"
      },
      "execution_count": null,
      "outputs": []
    },
    {
      "cell_type": "code",
      "source": [
        "# Function to load recipes from a JSON file or URL\n",
        "def load_recipes(source):\n",
        "    \"\"\"Load recipes from a local JSON file or URL.\"\"\"\n",
        "    if source.startswith(\"http\"):  # If source is a URL\n",
        "        response = requests.get(source)\n",
        "        if response.status_code == 200:\n",
        "            return response.json()\n",
        "        else:\n",
        "            raise Exception(f\"Failed to fetch data from URL: {response.status_code}\")\n",
        "    elif os.path.exists(source):  # If source is a local file\n",
        "        with open(source, \"r\", encoding=\"utf-8\") as f:\n",
        "            return json.load(f)\n",
        "    else:\n",
        "        raise FileNotFoundError(f\"Invalid source: {source}\")"
      ],
      "metadata": {
        "id": "DF1U8wmnHwFr"
      },
      "execution_count": null,
      "outputs": []
    },
    {
      "cell_type": "code",
      "source": [
        "# Function to extract a subset of 50 recipes from a dictionary dataset\n",
        "def extract_recipe_subset(recipes_dict, limit=50):\n",
        "    \"\"\"Extract a subset of 50 recipes from a dictionary-based dataset.\"\"\"\n",
        "    recipes_list = list(recipes_dict.values())  # Convert dictionary values to a list\n",
        "    subset_recipes = recipes_list[:limit]  # Extract first 50 recipes\n",
        "    print(f\"Extracted {len(subset_recipes)} recipes.\")\n",
        "    return subset_recipes"
      ],
      "metadata": {
        "id": "Edac6_ZPU5zY"
      },
      "execution_count": null,
      "outputs": []
    },
    {
      "cell_type": "code",
      "source": [
        "# Function to create a FAISS index for fast recipe retrieval\n",
        "def create_faiss_index(recipes):\n",
        "    \"\"\" Create a FAISS index for recipe retrieval based on embeddings.\"\"\"\n",
        "    if not recipes:\n",
        "        raise ValueError(\"No recipes found to index!\")\n",
        "\n",
        "    recipe_texts = [\n",
        "    r.get(\"name\", \"Unknown Name\") + \" \" +\n",
        "    \", \".join(r.get(\"ingredients\", [])) + \" \" +  # Convert list to comma-separated string\n",
        "    r.get(\"instructions\", \"No instructions provided\")\n",
        "    for r in recipes\n",
        "]\n",
        "    # Generate embeddings\n",
        "    embeddings = np.array([get_openai_embedding(text) for text in recipe_texts if text], dtype=np.float32)\n",
        "\n",
        "    # Ensure embeddings were generated\n",
        "    if embeddings.shape[0] == 0:\n",
        "        raise ValueError(\"No embeddings generated. Check input data and OpenAI API.\")\n",
        "\n",
        "    # Create FAISS index\n",
        "    index = faiss.IndexFlatL2(embeddings.shape[1])\n",
        "    index.add(embeddings)\n",
        "\n",
        "    print(\"FAISS index created with\", index.ntotal, \"entries.\")\n",
        "    return index, recipe_texts"
      ],
      "metadata": {
        "id": "bZOUjTS9HwIQ"
      },
      "execution_count": null,
      "outputs": []
    },
    {
      "cell_type": "code",
      "source": [
        "# Function to search for the most relevant recipes using FAISS\n",
        "def search_recipe(query, index, recipe_texts, k=3):\n",
        "    \"\"\" Search for the most relevant recipes using FAISS based on user query.\"\"\"\n",
        "    if index is None or index.ntotal == 0:\n",
        "        raise ValueError(\"FAISS index is not initialized or empty!\")\n",
        "\n",
        "    query_embedding = np.array([get_openai_embedding(query)], dtype=np.float32)\n",
        "\n",
        "    # Perform the FAISS search\n",
        "    distances, indices = index.search(query_embedding, k)\n",
        "\n",
        "    results = [recipe_texts[i] for i in indices[0]]\n",
        "    return results"
      ],
      "metadata": {
        "id": "QwpikCL6Q1IL"
      },
      "execution_count": null,
      "outputs": []
    },
    {
      "cell_type": "code",
      "source": [
        "# Function to refine a retrieved recipe using OpenAI's GPT model\n",
        "\n",
        "client = openai.OpenAI(api_key=openai.api_key )  # Initialize the new OpenAI client\n",
        "\n",
        "def refine_recipe_with_gpt(recipe_text, preference):\n",
        "    \"\"\"Use OpenAI GPT to modify the recipe based on user preferences.\"\"\"\n",
        "    prompt = f\"Modify this recipe to fit user preferences ({preference}): \\n{recipe_text}\"\n",
        "\n",
        "    response = client.chat.completions.create(  # Updated method\n",
        "        model=\"gpt-4-turbo\",\n",
        "        messages=[\n",
        "            {\"role\": \"system\", \"content\": \"You are a helpful chef assistant.\"},\n",
        "            {\"role\": \"user\", \"content\": prompt}\n",
        "        ]\n",
        "    )\n",
        "\n",
        "    return response.choices[0].message.content"
      ],
      "metadata": {
        "id": "OonCC5M4VKY5"
      },
      "execution_count": null,
      "outputs": []
    },
    {
      "cell_type": "code",
      "source": [
        "# Function to display query, retrieved recipe, and modified recipe with separators\n",
        "def display_result(query, retrieved_recipe, modified_recipe):\n",
        "    \"\"\" Nicely formats and prints the query, retrieved recipe, and modified recipe. \"\"\"\n",
        "    print(\"=\" * 60)\n",
        "    print(f\"USER QUERY:\\n{query}\")\n",
        "    print(\"=\" * 60)\n",
        "    print(f\"RETRIEVED RECIPE:\\n{retrieved_recipe}\")\n",
        "    print(\"=\" * 60)\n",
        "    print(f\"MODIFIED RECIPE:\\n{modified_recipe}\")\n",
        "    print(\"=\" * 60)"
      ],
      "metadata": {
        "id": "u5xB9wufVQPr"
      },
      "execution_count": null,
      "outputs": []
    },
    {
      "cell_type": "code",
      "source": [
        "# Load recipes from a dataset (local file or URL)\n",
        "recipe_source = \"https://raw.githubusercontent.com/tabatkins/recipe-db/master/db-recipes.json\"\n",
        "recipes = load_recipes(recipe_source)\n"
      ],
      "metadata": {
        "id": "oUjXQjWCVZEI"
      },
      "execution_count": null,
      "outputs": []
    },
    {
      "cell_type": "code",
      "source": [
        "# printing the keys\n",
        "print(\"Keys in recipes:\", recipes.keys())"
      ],
      "metadata": {
        "colab": {
          "base_uri": "https://localhost:8080/"
        },
        "id": "QeknMMrbVcPQ",
        "outputId": "628a8614-347c-4372-e511-7c0e7bd69b25"
      },
      "execution_count": null,
      "outputs": [
        {
          "output_type": "stream",
          "name": "stdout",
          "text": [
            "Keys in recipes: dict_keys(['2', '4', '7', '8', '9', '10', '11', '12', '13', '14', '15', '16', '17', '18', '19', '21', '28', '30', '32', '36', '42', '48', '51', '54', '55', '56', '57', '61', '63', 'id1', 'id3', 'id4', 'id5', 'id6', 'id8', 'id9', 'id12', 'id15', 'id17', 'id18', 'id19', 'id20', 'id21', 'id22', 'id25', 'id26', 'id27', 'id28', 'id29', 'id30', 'id32', 'id33', 'id34', 'id35', 'id36', 'id37', 'id38', 'id39', 'id43', 'id44', 'id45', 'id46', 'id49', 'id50', 'id51', 'id52', 'id53', 'id55', 'id57', 'id58', 'id63', 'id64', 'id65', 'id66', 'id67', 'id68', 'id70', 'id73', 'id74', 'id75', 'id79', 'id81', 'id82', 'id83', 'id84', 'id86', 'id88', 'id90', 'id93', 'id95', 'id96', 'id97', 'id99', 'id101', 'id104', 'id105', 'id107', 'id108', 'id109', 'id110', 'id111', 'id112', 'id113', 'id114', 'id116', 'id117', 'id118', 'id119', 'id123', 'id125', 'id126', 'id127', 'id128', 'id131', 'id132', 'id133', 'id134', 'id136', 'id137', 'id139', 'id140', 'id141', 'id142', 'id144', 'id145', 'id146', 'id147', 'id148', 'id150', 'id151', 'id156', 'id157', 'id158', 'id159', 'id161', 'id163', 'id164', 'id167', 'id169', 'id170', 'id171', 'id172', 'id173', 'id174', 'id175', 'id176', 'id177', 'id181', 'id182', 'id183', 'id184', 'id185', 'id187', 'id190', 'id191', 'id192', 'id193', 'id194', 'id195', 'id196', 'id197', 'id198', 'id199', 'id202', 'id203', 'id204', 'id205', 'id206', 'id207', 'id208', 'id209', 'id210', 'id212', 'id213', 'id215', 'id218', 'id219', 'id220', 'id221', 'id222', 'id223', 'id226', 'id228', 'id232', 'id233', 'id234', 'id235', 'id236', 'id237', 'id238', 'id239', 'id242', 'id243', 'id244', 'id245', 'id247', 'id249', 'id250', 'id251', 'id252', 'id254', 'id255', 'id256', 'id258', 'id259', 'id260', 'id261', 'id262', 'id263', 'id264', 'id265', 'id268', 'id270', 'id271', 'id272', 'id273', 'id277', 'id278', 'id280', 'id281', 'id282', 'id283', 'id284', 'id286', 'id287', 'id288', 'id289', 'id290', 'id291', 'id292', 'id293', 'id294', 'id295', 'id296', 'id297', 'id298', 'id300', 'id301', 'id302', 'id304', 'id305', 'id308', 'id309', 'id310', 'id311', 'id312', 'id313', 'id314', 'id315', 'id317', 'id318', 'id319', 'id321', 'id322', 'id323', 'id324', 'id325', 'id326', 'id327', 'id328', 'id329', 'id331', 'id332', 'id335', 'id336', 'id338', 'id339', 'id340', 'id341', 'id343', 'id344', 'id347', 'id348', 'id349', 'id350', 'id351', 'id352', 'id353', 'id354', 'id355', 'id357', 'id358', 'id359', 'id360', 'id361', 'id362', 'id363', 'id364', 'id365', 'id366', 'id367', 'id369', 'id370', 'id371', 'id372', 'id373', 'id375', 'id376', 'id377', 'id378', 'id380', 'id381', 'id382', 'id383', 'id384', 'id385', 'id386', 'id388', 'id389', 'id390', 'id392', 'id393', 'id394', 'id396', 'id397', 'id398', 'id399', 'id400', 'id401', 'id402', 'id403', 'id405', 'id406', 'id408', 'id409', 'id410', 'id411', 'id412', 'id413', 'id415', 'id416', 'id417', 'id418', 'id419', 'id420', 'id421', 'id422', 'id426', 'id427', 'id428', 'id429', 'id430', 'id431', 'id432', 'id434', 'id435', 'id436', 'id437', 'id438', 'id439', 'id440', 'id442', 'id443', 'id444', 'id445', 'id446', 'id448', 'id449', 'id450', 'id451', 'id452', 'id453', 'id454', 'id455', 'id456', 'id457', 'id458', 'id460', 'id461', 'id462', 'id463', 'id464', 'id465', 'id466', 'id467', 'id468', 'id471', 'id472', 'id473', 'id475', 'id476', 'id477', 'id478', 'id479', 'id482', 'id483', 'id484', 'id485', 'id486', 'id487', 'id488', 'id490', 'id491', 'id492', 'id493', 'id494', 'id495', 'id496', 'id497', 'id498', 'id499', 'id500', 'id501', 'id502', 'id506', 'id509', 'id510', 'id511', 'id512', 'id513', 'id514', 'id516', 'id517', 'id518', 'id519', 'id520', 'id521', 'id522', 'id523', 'id524', 'id525', 'id526', 'id527', 'id528', 'id529', 'id530', 'id531', 'id532', 'id533', 'id534', 'id535', 'id536', 'id537', 'id538', 'id539', 'id540', 'id541', 'id542', 'id543', 'id544', 'id545', 'id546', 'id547', 'id548', 'id549', 'id550', 'id552', 'id553', 'id554', 'id555', 'id556', 'id557', 'id559', 'id560', 'id561', 'id562', 'id563', 'id564', 'id565', 'id566', 'id567', 'id568', 'id569', 'id570', 'id571', 'id572', 'id573', 'id574', 'id575', 'id576', 'id577', 'id578', 'id580', 'id583', 'id584', 'id585', 'id586', 'id587', 'id588', 'id589', 'id590', 'id591', 'id592', 'id593', 'id594', 'id595', 'id597', 'id598', 'id599', 'id600', 'id601', 'id602', 'id603', 'id604', 'id605', 'id606', 'id607', 'id608', 'id609', 'id610', 'id611', 'id612', 'id613', 'id614', 'id615', 'id616', 'id617', 'id618', 'id619', 'id620', 'id621', 'id622', 'id623', 'id624', 'id625', 'id626', 'id627', 'id628', 'id629', 'id630', 'id631', 'id634', 'id635', 'id636', 'id637', 'id638', 'id639', 'id640', 'id641', 'id642', 'id643', 'id644', 'id645', 'id646', 'id647', 'id648', 'id649', 'id650', 'id651', 'id652'])\n"
          ]
        }
      ]
    },
    {
      "cell_type": "code",
      "source": [
        "# printing an example of a recipe\n",
        "first_key = list(recipes.keys())[0]\n",
        "print(\"Sample recipe structure:\", recipes[first_key])"
      ],
      "metadata": {
        "colab": {
          "base_uri": "https://localhost:8080/"
        },
        "id": "5bUScN5GWCtU",
        "outputId": "1e4312e7-deb4-418e-e556-cc5769e485a7"
      },
      "execution_count": null,
      "outputs": [
        {
          "output_type": "stream",
          "name": "stdout",
          "text": [
            "Sample recipe structure: {'id': '2', 'name': 'Baked Shrimp Scampi', 'source': 'Ina Garten: Barefoot Contessa Back to Basics', 'preptime': 0, 'waittime': 0, 'cooktime': 0, 'servings': 6, 'comments': 'Modified by reducing butter and salt.  Substituted frozen shrimp instead of fresh 12-15 count (butterflied, tails on).', 'calories': 2565, 'fat': 159, 'satfat': 67, 'carbs': 76, 'fiber': 4, 'sugar': 6, 'protein': 200, 'instructions': 'Preheat the oven to 425 degrees F.\\r\\n\\r\\nDefrost shrimp by putting in cold water, then drain and toss with wine, oil, salt, and pepper. Place in oven-safe dish and allow to sit at room temperature while you make the butter and garlic mixture.\\r\\n\\r\\nIn a small bowl, mash the softened butter with the rest of the ingredients and some salt and pepper.\\r\\n\\r\\nSpread the butter mixture evenly over the shrimp. Bake for 10 to 12 minutes until hot and bubbly. If you like the top browned, place under a broiler for 1-3 minutes (keep an eye on it). Serve with lemon wedges and French bread.\\r\\n\\r\\nNote: if using fresh shrimp, arrange for presentation. Starting from the outer edge of a 14-inch oval gratin dish, arrange the shrimp in a single layer cut side down with the tails curling up and towards the center of the dish. Pour the remaining marinade over the shrimp. ', 'ingredients': ['2/3 cup panko\\r', '1/4 teaspoon red pepper flakes\\r', '1/2 lemon, zested and juiced\\r', '1 extra-large egg yolk\\r', '1 teaspoon rosemary, minced\\r', '3 tablespoon parsley, minced\\r', '4 clove garlic, minced\\r', '1/4 cup shallots, minced\\r', '8 tablespoon unsalted butter, softened at room temperature\\r', '<hr>', '2 tablespoon dry white wine\\r', 'Freshly ground black pepper\\r', 'Kosher salt\\r', '3 tablespoon olive oil\\r', '2 pound frozen shrimp'], 'tags': ['seafood', 'shrimp', 'main']}\n"
          ]
        }
      ]
    },
    {
      "cell_type": "code",
      "source": [
        "# Extract a subset of 50 recipes from the dictionary dataset\n",
        "subset_recipes = extract_recipe_subset(recipes, limit=50)"
      ],
      "metadata": {
        "colab": {
          "base_uri": "https://localhost:8080/"
        },
        "id": "yc_HJhOpWvI4",
        "outputId": "7f3adb50-6c04-4488-b6e7-60825d734ca1"
      },
      "execution_count": null,
      "outputs": [
        {
          "output_type": "stream",
          "name": "stdout",
          "text": [
            "Extracted 50 recipes.\n"
          ]
        }
      ]
    },
    {
      "cell_type": "code",
      "source": [
        " # Create FAISS index for fast retrieval\n",
        "index, recipe_texts = create_faiss_index(subset_recipes)"
      ],
      "metadata": {
        "colab": {
          "base_uri": "https://localhost:8080/"
        },
        "id": "5Voo_lO-Y0xe",
        "outputId": "00b3383d-46e1-4734-aaf5-d1179e7194e2"
      },
      "execution_count": null,
      "outputs": [
        {
          "output_type": "stream",
          "name": "stdout",
          "text": [
            "FAISS index created with 50 entries.\n"
          ]
        }
      ]
    },
    {
      "cell_type": "code",
      "source": [
        "# User query for recipe search\n",
        "user_query = \"vegetarian pasta\"\n",
        "relevant_recipes = search_recipe(user_query, index, recipe_texts)"
      ],
      "metadata": {
        "id": "odwb56u1Y4dt"
      },
      "execution_count": null,
      "outputs": []
    },
    {
      "cell_type": "code",
      "source": [
        " # Modify the first retrieved recipe based on user preference\n",
        "preference = \"low-calorie alternative\"\n",
        "modified_recipe = refine_recipe_with_gpt(relevant_recipes[0], preference)\n"
      ],
      "metadata": {
        "id": "JbgJepWcZ3JD"
      },
      "execution_count": null,
      "outputs": []
    },
    {
      "cell_type": "code",
      "source": [
        "# Display the formatted output\n",
        "display_result(user_query, relevant_recipes[0], modified_recipe)"
      ],
      "metadata": {
        "colab": {
          "base_uri": "https://localhost:8080/"
        },
        "id": "KCK702KQZ7u4",
        "outputId": "15d79ad8-e0b3-46c0-fb66-bb3f5d6b99b7"
      },
      "execution_count": null,
      "outputs": [
        {
          "output_type": "stream",
          "name": "stdout",
          "text": [
            "============================================================\n",
            "USER QUERY:\n",
            "vegetarian pasta\n",
            "============================================================\n",
            "RETRIEVED RECIPE:\n",
            "Straw and Hay Fettuccine Tangle 4 serving [asparagus pesto](http://www.xanthir.com/recipes/showrecipe.php?id=id436), 1/4 cup toasted pine nuts\r, 4 tbsp parmesan, grated\r, 12 oz dried pasta Bring a large pot of water to a rolling boil.\r\n",
            "\r\n",
            "Meanwhile, make asparagus pesto.\r\n",
            "\r\n",
            "Salt the pasta water well and cook the pasta until just tender. Drain and toss immediately with 1 cup of the asparagus pesto (1/4 cup per serving), stirring in more afterward depending on how heavily coated you like your pasta. Serve sprinkled with the remaining toasted pine nuts, a dusting of Parmesan, and a quick drizzle of extra-virgin olive oil.\n",
            "============================================================\n",
            "MODIFIED RECIPE:\n",
            "Here's the recipe for Straw and Hay Fettuccine Tangle modified to be a lower-calorie option:\n",
            "\n",
            "### Ingredients:\n",
            "- **Asparagus Pesto:** Refer to the linked recipe but replace any oil with a lower amount or substitute part of the oil with vegetable broth to reduce calories. Additionally, use a reduced amount of nuts or replace half of the nuts with sunflower seeds, which have fewer calories.\n",
            "- **1/4 cup toasted pine nuts:** Reduce to 2 tablespoons to decrease calorie content. Consider toasting them to enhance flavor without needing extra fats.\n",
            "- **4 tbsp Parmesan, grated:** Replace with 2 tablespoons of nutritional yeast for a cheesy flavor with fewer calories, or use a reduced amount of a lower-fat Parmesan cheese.\n",
            "- **12 oz dried whole wheat pasta or a low-calorie pasta alternative:** Choose a high-fiber whole wheat pasta or a low-calorie pasta substitute such as shirataki noodles or spiralized vegetables like zucchini to significantly cut down the calories.\n",
            "\n",
            "### Instructions:\n",
            "1. **Prepare the Asparagus Pesto:** Follow the adjusted recipe for the pesto using the modifications suggested above to make it lower in calories.\n",
            "\n",
            "2. **Cook the Pasta:**\n",
            "   - Bring a large pot of water to a rolling boil.\n",
            "   - Salt the water lightly (you can reduce the salt if managing sodium intake).\n",
            "   - If using whole wheat pasta, cook until just tender, about 8-10 minutes. If using a pasta alternative like shirataki noodles or spiralized zucchini, follow package instructions or cook until heated through and slightly tender.\n",
            "   - Drain the pasta.\n",
            "\n",
            "3. **Combine and Serve:**\n",
            "   - Toss the drained pasta immediately with 1 cup of the low-calorie asparagus pesto (about 1/4 cup per serving), adding more if needed, based on how heavily you like your pasta coated.\n",
            "   - Serve the pasta sprinkled with the reduced amount of toasted pine nuts and a dusting of Nutritional yeast or lower-fat Parmesan.\n",
            "   - Optionally, skip the drizzle of extra-virgin olive oil, or use just a tiny amount for flavor.\n",
            "\n",
            "This version of the Straw and Hay Fettuccine Tangle minimizes calorie content by using lower-calorie alternatives for high-calorie ingredients while still delivering a flavorful and satisfying dish. Enjoy!\n",
            "============================================================\n"
          ]
        }
      ]
    }
  ]
}